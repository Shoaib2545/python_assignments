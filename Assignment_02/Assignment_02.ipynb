{
 "cells": [
  {
   "cell_type": "code",
   "execution_count": 38,
   "id": "7eeed804",
   "metadata": {},
   "outputs": [
    {
     "name": "stdout",
     "output_type": "stream",
     "text": [
      "Percentage:33.0%\n",
      "Grade: F\n"
     ]
    }
   ],
   "source": [
    "eng=33;\n",
    "maths=33;\n",
    "isl=33;\n",
    "total=300;\n",
    "per=((eng+maths+isl)/total)*100;\n",
    "print(\"Percentage:\" + str(per)+\"%\");\n",
    "if per <= 100 and per >= 0:\n",
    "    if per >= 90 and per <=100:\n",
    "        print(\"Grede: A+\");\n",
    "    elif per >= 80 and per < 90:\n",
    "        print(\"Grade: A\");\n",
    "    elif per >= 70 and per <80:\n",
    "        print(\"Grade: B\");\n",
    "    elif per >= 60 and per <70:\n",
    "        print(\"Grade: C\");\n",
    "    elif per >= 50 and per <60:\n",
    "        print(\"Grade: D\");\n",
    "    elif per >= 40 and per <50:\n",
    "        print(\"Grade: E\");\n",
    "    elif per >=33 and per <40:\n",
    "        print(\"Grade: F\");\n",
    "    else:\n",
    "        print(\"Fail\");\n",
    "else:\n",
    "    print(\"please! input valid number between 1-100 for each subject\");"
   ]
  },
  {
   "cell_type": "code",
   "execution_count": null,
   "id": "ae453224",
   "metadata": {},
   "outputs": [],
   "source": []
  }
 ],
 "metadata": {
  "kernelspec": {
   "display_name": "Python 3",
   "language": "python",
   "name": "python3"
  },
  "language_info": {
   "codemirror_mode": {
    "name": "ipython",
    "version": 3
   },
   "file_extension": ".py",
   "mimetype": "text/x-python",
   "name": "python",
   "nbconvert_exporter": "python",
   "pygments_lexer": "ipython3",
   "version": "3.8.8"
  }
 },
 "nbformat": 4,
 "nbformat_minor": 5
}
