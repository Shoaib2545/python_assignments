{
 "cells": [
  {
   "cell_type": "code",
   "execution_count": 14,
   "metadata": {},
   "outputs": [
    {
     "name": "stdout",
     "output_type": "stream",
     "text": [
      "Select operation.\n",
      "1.Add\n",
      "2.Subtract\n",
      "3.Multiply\n",
      "4.Divide\n",
      "5.power\n",
      "Enter your choice: 5\n",
      "Enter first number: 2\n",
      "Enter second number: 2\n",
      "2.0 power 2.0 = 4.0\n"
     ]
    }
   ],
   "source": [
    "# 1. Make a calculator using Python with addition , subtraction , multiplication ,division and power.\n",
    "\n",
    "def add(x, y):\n",
    "    return x + y\n",
    "\n",
    "def sub(x, y):\n",
    "    return x - y\n",
    "\n",
    "def mul(x, y):\n",
    "    return x * y\n",
    "\n",
    "def div(x, y):\n",
    "    return x / y\n",
    "\n",
    "def pwr(x, y):\n",
    "    return x ** y\n",
    "\n",
    "\n",
    "print(\"Select operation.\")\n",
    "print(\"1.Add\")\n",
    "print(\"2.Subtract\")\n",
    "print(\"3.Multiply\")\n",
    "print(\"4.Divide\")\n",
    "print (\"5.power\")\n",
    "choice = input(\"Enter your choice: \")\n",
    "\n",
    "if choice =='1' or choice =='2' or choice =='3' or choice =='4' or choice =='5':\n",
    "    num1 = float(input(\"Enter first number: \"))\n",
    "    num2 = float(input(\"Enter second number: \"))\n",
    "    if choice == '1':\n",
    "        print(num1, \"+\", num2, \"=\", add(num1, num2))\n",
    "\n",
    "    elif choice == '2':\n",
    "        print(num1, \"-\", num2, \"=\", sub(num1, num2))\n",
    "\n",
    "    elif choice == '3':\n",
    "        print(num1, \"*\", num2, \"=\", mul(num1, num2))\n",
    "\n",
    "    elif choice == '4':\n",
    "        print(num1, \"/\", num2, \"=\", div(num1, num2))\n",
    "        \n",
    "    elif choice == '5':\n",
    "        print(num1, \"power\", num2, \"=\", pwr(num1, num2))\n",
    "            \n",
    "else:\n",
    "    print(\"Invalid Input\")"
   ]
  },
  {
   "cell_type": "code",
   "execution_count": 21,
   "metadata": {},
   "outputs": [
    {
     "name": "stdout",
     "output_type": "stream",
     "text": [
      "there is numeric value in list\n",
      "there is numeric value in list\n",
      "there is numeric value in list\n",
      "there is numeric value in list\n"
     ]
    }
   ],
   "source": [
    "# 2. Write a program to check if there is any numeric value in list using for loop.\n",
    "\n",
    "a = [1,\"shoaib\",4,'xyz',9,2.2,'z','x','y']\n",
    "for i in a:\n",
    "    if type(i) == int or type(i) == float:\n",
    "        print(\"there is numeric value in list\")"
   ]
  },
  {
   "cell_type": "code",
   "execution_count": 25,
   "metadata": {},
   "outputs": [
    {
     "name": "stdout",
     "output_type": "stream",
     "text": [
      "original dictionary  {1: 'a', 2: 'b', 3: 'c', 4: 'd', 5: 'e'}\n",
      "Updated dictionary  {1: 'a', 2: 'b', 3: 'c', 4: 'd', 5: 'e', 6: 'f'}\n"
     ]
    }
   ],
   "source": [
    "# 3. Write a Python script to add a key to a dictionary.\n",
    "\n",
    "a = {1:'a', 2:'b', 3:'c', 4:'d', 5:'e'}\n",
    "print('original dictionary ', a)\n",
    "a.update({6:'f'})\n",
    "print('Updated dictionary ', a)\n"
   ]
  },
  {
   "cell_type": "code",
   "execution_count": 32,
   "metadata": {},
   "outputs": [
    {
     "name": "stdout",
     "output_type": "stream",
     "text": [
      "16\n"
     ]
    }
   ],
   "source": [
    "# 4. Write a Python program to sum all the numeric items in a dictionary.\n",
    "b = {1:'a', 2:4, 3:3, 4:'d', 5:9}\n",
    "total = 0\n",
    "for keys,values in b.items():\n",
    "    if type(values) == int or type(values) == float:\n",
    "        total += values\n",
    "print(total)"
   ]
  },
  {
   "cell_type": "code",
   "execution_count": 4,
   "metadata": {},
   "outputs": [
    {
     "name": "stdout",
     "output_type": "stream",
     "text": [
      "2 3 99 "
     ]
    }
   ],
   "source": [
    "# 5. Write a program to identify duplicate values from list.\n",
    "\n",
    "x = [1,2,99,3,44,5,2,3,4,7,99,10]\n",
    "y = []\n",
    "for i in x:\n",
    "    if i not in y:\n",
    "        y.append(i)\n",
    "    else:\n",
    "        print(i,end=' ')\n"
   ]
  },
  {
   "cell_type": "code",
   "execution_count": 41,
   "metadata": {},
   "outputs": [
    {
     "name": "stdout",
     "output_type": "stream",
     "text": [
      "Enter a key between a to z: b\n",
      "Not present\n",
      "Present, \n",
      "value = 200\n"
     ]
    }
   ],
   "source": [
    "# 6. Write a Python script to check if a given key already exists in a dictionary.\n",
    "  \n",
    "d = {'a': 100, 'b':200, 'c':300, 'd':400, 'e':500}\n",
    "key = input('Enter a key between a to z: ')\n",
    "for i in d.keys():\n",
    "    if i == key:\n",
    "        print(\"Present, \")\n",
    "        print(\"value =\", d[key])\n",
    "        break\n",
    "    else:\n",
    "        print(\"Not present\")\n"
   ]
  },
  {
   "cell_type": "code",
   "execution_count": null,
   "metadata": {},
   "outputs": [],
   "source": []
  }
 ],
 "metadata": {
  "kernelspec": {
   "display_name": "Python 3",
   "language": "python",
   "name": "python3"
  },
  "language_info": {
   "codemirror_mode": {
    "name": "ipython",
    "version": 3
   },
   "file_extension": ".py",
   "mimetype": "text/x-python",
   "name": "python",
   "nbconvert_exporter": "python",
   "pygments_lexer": "ipython3",
   "version": "3.7.0"
  }
 },
 "nbformat": 4,
 "nbformat_minor": 2
}
