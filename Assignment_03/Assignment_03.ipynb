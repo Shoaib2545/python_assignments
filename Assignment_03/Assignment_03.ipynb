{
 "cells": [
  {
   "cell_type": "code",
   "execution_count": 1,
   "id": "0e30d5c4",
   "metadata": {},
   "outputs": [
    {
     "name": "stdout",
     "output_type": "stream",
     "text": [
      "Twinkle, twinkle, little star,\n",
      " \t How I wonder what you are!\n",
      " \t \t Up above the world so high,\n",
      " \t \t Like a diamond in the sky.\n",
      "Twinkle, twinkle, little star,\n",
      " \t How I wonder what you are\n"
     ]
    }
   ],
   "source": [
    "# 1. Write a Python program to print the following string in a specific format (see the output).\n",
    "#Twinkle, twinkle, little star,\n",
    "#How I wonder what you are!\n",
    "#Up above the world so high,\n",
    "#Like a diamond in the sky.\n",
    "#Twinkle, twinkle, little star,\n",
    "#How I wonder what you are\n",
    "print('Twinkle, twinkle, little star,\\n \\t How I wonder what you are!\\n \\t \\t Up above the world so high,\\n \\t \\t Like a diamond in the sky.\\nTwinkle, twinkle, little star,\\n \\t How I wonder what you are');"
   ]
  },
  {
   "cell_type": "code",
   "execution_count": 6,
   "id": "f2a34019",
   "metadata": {},
   "outputs": [
    {
     "name": "stdout",
     "output_type": "stream",
     "text": [
      "3.8.8\n"
     ]
    }
   ],
   "source": [
    "# 2. Write a Python program to get the Python version you are using\n",
    "from platform import python_version;\n",
    "print(python_version());"
   ]
  },
  {
   "cell_type": "code",
   "execution_count": 17,
   "id": "44a68531",
   "metadata": {},
   "outputs": [
    {
     "name": "stdout",
     "output_type": "stream",
     "text": [
      "currnet date and time 2021-10-24 08:27:35.904486\n",
      "hh:mm:ss format = 8:27:35\n",
      "dd/mm/yyyy format =  24/10/2021\n"
     ]
    }
   ],
   "source": [
    "# 3. Write a Python program to display the current date and time.\n",
    "import datetime;\n",
    "currentDateAndTime = datetime.datetime.now();\n",
    "print('currnet date and time %s'%currentDateAndTime);\n",
    "print (\"hh:mm:ss format = %s:%s:%s\" % (currentDateAndTime.hour, currentDateAndTime.minute, currentDateAndTime.second));\n",
    "print (\"dd/mm/yyyy format =  %s/%s/%s\" % (currentDateAndTime.day, currentDateAndTime.month, currentDateAndTime.year));"
   ]
  },
  {
   "cell_type": "code",
   "execution_count": 24,
   "id": "83f8f0b1",
   "metadata": {},
   "outputs": [
    {
     "name": "stdout",
     "output_type": "stream",
     "text": [
      "Enter radius of the circle: 3.2\n",
      "Area of the circle: 32.15\n"
     ]
    }
   ],
   "source": [
    "# 4. Write a Python program which accepts the radius of a circle from the user and compute the area.\n",
    "PI = 3.14;\n",
    "radius = float(input('Enter radius of the circle: '));\n",
    "area = PI * radius * radius;\n",
    "print('Area of the circle: %.2f' %area);"
   ]
  },
  {
   "cell_type": "code",
   "execution_count": 37,
   "id": "02ba0b0e",
   "metadata": {},
   "outputs": [
    {
     "name": "stdout",
     "output_type": "stream",
     "text": [
      "Enter your first name: muhammad\n",
      "Enter your last name: shoaib\n",
      "biaohs dammahum\n"
     ]
    }
   ],
   "source": [
    "# 5. Write a Python program which accepts the user's first and last name and print them in reverse order with a space between them.\n",
    "firstName = input('Enter your first name: ');\n",
    "lastName = input('Enter your last name: ');\n",
    "reverseName = firstName +\" \"+ lastName;\n",
    "print(reverseName[::-1]);"
   ]
  },
  {
   "cell_type": "code",
   "execution_count": 39,
   "id": "55f20e85",
   "metadata": {},
   "outputs": [
    {
     "name": "stdout",
     "output_type": "stream",
     "text": [
      "Enter first number: 2.2\n",
      "Enter second number: .32\n",
      "Addition is: 2.52\n"
     ]
    }
   ],
   "source": [
    "# 6. Write a python program which takes two inputs from user and print them addition\n",
    "a = float(input('Enter first number: '));\n",
    "b = float(input('Enter second number: '));\n",
    "c = a + b;\n",
    "print(\"Addition is: %.2f\"%c);"
   ]
  },
  {
   "cell_type": "code",
   "execution_count": 40,
   "id": "9f4a0f74",
   "metadata": {},
   "outputs": [
    {
     "name": "stdout",
     "output_type": "stream",
     "text": [
      "Enter your english marks55.5\n",
      "Enter your mathematic marks33.\n",
      "Enter your islamiat marks55\n",
      "Enter your urdu marks66\n",
      "Enter your science marks77\n",
      "Percentage:57.3%\n",
      "Grade: D\n"
     ]
    }
   ],
   "source": [
    "# 7. Write a program which takes 5 inputs from user for different subject’s marks, total it and generate mark sheet using grades ?\n",
    "english=float(input('Enter your english marks'));\n",
    "maths=float(input('Enter your mathematic marks'));\n",
    "islamiat=float(input('Enter your islamiat marks'));\n",
    "urdu=float(input('Enter your urdu marks'));\n",
    "science=float(input('Enter your science marks'));\n",
    "total=500;\n",
    "per=((english+maths+islamiat+urdu+science)/total)*100;\n",
    "print(\"Percentage:\" + str(per)+\"%\");\n",
    "if per <= 100 and per >= 0:\n",
    "    if per >= 90 and per <=100:\n",
    "        print(\"Grede: A+\");\n",
    "    elif per >= 80 and per < 90:\n",
    "        print(\"Grade: A\");\n",
    "    elif per >= 70 and per <80:\n",
    "        print(\"Grade: B\");\n",
    "    elif per >= 60 and per <70:\n",
    "        print(\"Grade: C\");\n",
    "    elif per >= 50 and per <60:\n",
    "        print(\"Grade: D\");\n",
    "    elif per >= 40 and per <50:\n",
    "        print(\"Grade: E\");\n",
    "    elif per >=33 and per <40:\n",
    "        print(\"Grade: F\");\n",
    "    else:\n",
    "        print(\"Fail\");\n",
    "else:\n",
    "    print(\"please! input valid number between 1-100 for each subject\");"
   ]
  },
  {
   "cell_type": "code",
   "execution_count": 47,
   "id": "9cd7c2b3",
   "metadata": {},
   "outputs": [
    {
     "name": "stdout",
     "output_type": "stream",
     "text": [
      "Enter a number: 3\n",
      "Given number is odd\n"
     ]
    }
   ],
   "source": [
    "# 8. Write a program which take input from user and identify that the given number is even or odd?\n",
    "a = int(input('Enter a number: '));\n",
    "if a % 2 == 0:\n",
    "    print('Given number is even');\n",
    "else:\n",
    "    print('Given number is odd');"
   ]
  },
  {
   "cell_type": "code",
   "execution_count": 49,
   "id": "d460114d",
   "metadata": {},
   "outputs": [
    {
     "name": "stdout",
     "output_type": "stream",
     "text": [
      "4\n"
     ]
    }
   ],
   "source": [
    "# 9. Write a program which print the length of the list?\n",
    "a =[678,123,'hello','world'];\n",
    "print(len(a));"
   ]
  },
  {
   "cell_type": "code",
   "execution_count": 3,
   "id": "078d1ad8",
   "metadata": {},
   "outputs": [
    {
     "name": "stdout",
     "output_type": "stream",
     "text": [
      "sum: 45\n"
     ]
    }
   ],
   "source": [
    "# 10.Write a Python program to sum all the numeric items in a list?\n",
    "a =[1,2,3,4,5,6,7,8,9];\n",
    "print('sum: %d'%sum(a));"
   ]
  },
  {
   "cell_type": "code",
   "execution_count": 16,
   "id": "232e3696",
   "metadata": {},
   "outputs": [
    {
     "name": "stdout",
     "output_type": "stream",
     "text": [
      "List: [1, 5, 7, 9, -4, -120, -9, 123]\n",
      "123\n"
     ]
    }
   ],
   "source": [
    "# 11.Write a Python program to get the largest number from a numeric list.\n",
    "a=[1,5,7,9,-4,-120,-9,123];\n",
    "print('List:',a);\n",
    "largestNumber = a[ 0 ];\n",
    "for i in a:\n",
    "    if i > largestNumber :\n",
    "        largestNumber = i;\n",
    "print(largestNumber);"
   ]
  },
  {
   "cell_type": "code",
   "execution_count": 20,
   "id": "0c618a5d",
   "metadata": {},
   "outputs": [
    {
     "name": "stdout",
     "output_type": "stream",
     "text": [
      "List: [1, 1, 2, 3, 5, 8, 13, 21, 34, 55, 89]\n",
      "7\n"
     ]
    }
   ],
   "source": [
    "# 12. Take a list, say for example this one: a = [1, 1, 2, 3, 5, 8, 13, 21, 34, 55, 89]. Write a program that prints out all the elements of the list that are less than 5.\n",
    "a = [1, 1, 2, 3, 5, 8, 13, 21, 34, 55, 89];\n",
    "summ = 0 ;\n",
    "print('List:',a);\n",
    "for i in a:\n",
    "    if i < 5:\n",
    "        summ += i;\n",
    "print(summ);\n",
    "        "
   ]
  },
  {
   "cell_type": "code",
   "execution_count": null,
   "id": "55255dc4",
   "metadata": {},
   "outputs": [],
   "source": []
  }
 ],
 "metadata": {
  "kernelspec": {
   "display_name": "Python 3",
   "language": "python",
   "name": "python3"
  },
  "language_info": {
   "codemirror_mode": {
    "name": "ipython",
    "version": 3
   },
   "file_extension": ".py",
   "mimetype": "text/x-python",
   "name": "python",
   "nbconvert_exporter": "python",
   "pygments_lexer": "ipython3",
   "version": "3.8.8"
  }
 },
 "nbformat": 4,
 "nbformat_minor": 5
}
